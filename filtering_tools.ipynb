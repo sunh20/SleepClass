{
 "cells": [
  {
   "cell_type": "markdown",
   "metadata": {},
   "source": [
    "## Filtering tools for neural data\n",
    "\n",
    "### Current list of tools:\n",
    "\n",
    "#### Filtering tools:\n",
    "- **flex_filter**(signal, fs, f_cut, f_cut2=None, btype='lowpass', order=4)\n",
    "    \n",
    "    flexible filter able to low/band/highpass filter  \n",
    "      \n",
    "    *signal*: MxN matrix, assuming that there are N independent vectors of length M  \n",
    "    *fs*: sampling frequency  \n",
    "    *f_cut*: frequency cutoff value\n",
    "    *f_cut2*: high frequency cutoff value (0 if none)  \n",
    "    *btype*: filter type, can be: 'highpass','lowpass','bandpass'  \n",
    "    *order*: butterworth order (default is 4)  \n",
    "    \n",
    "    \n",
    "- **notch**(signal, fs, f_cut=[60,120,180], err=0.1)\n",
    "\n",
    "    applies a notch filter to signal at frequencies at f_cut  \n",
    "    default values @ 60, 120, 180 Hz  \n",
    "    err indicates the notch bandwidth (in Hz)  \n",
    "    \n",
    "    \n",
    "- **ecog_clean**(signal, fs)  \n",
    "\n",
    "    applies a standardized set of filtering parameters to clean ECoG data  \n",
    "    bandpass 0.1 Hz - 200 Hz  \n",
    "    notch @ 60, 120, 180 Hz  \n",
    "    relies on all above functions  "
   ]
  },
  {
   "cell_type": "code",
   "execution_count": 1,
   "metadata": {},
   "outputs": [],
   "source": [
    "# imports + global variables\n",
    "import scipy.signal as sps\n"
   ]
  },
  {
   "cell_type": "code",
   "execution_count": 1,
   "metadata": {},
   "outputs": [],
   "source": [
    "def flex_filter(signal, fs, f_cut, f_cut2=None, btype='lowpass', order=4):\n",
    "    '''\n",
    "    flexible filter able to low/band/highpass filter  \n",
    "      \n",
    "    *signal*: MxN matrix, assuming that there are N independent vectors of length M  \n",
    "    *fs*: sampling frequency  \n",
    "    *f_cut*: frequency cutoff value\n",
    "    *f_cut2*: high frequency cutoff value (0 if none)  \n",
    "    *btype*: filter type, can be: 'highpass','lowpass','bandpass'  \n",
    "    *order*: butterworth order (default is 4)\n",
    "    '''\n",
    "    \n",
    "    assert((btype == 'bandpass' and f_cut2 != None) or (btype != 'bandpass'))\n",
    "    \n",
    "    nyq = 0.5 * fs;\n",
    "    \n",
    "    if f_cut2 != None:\n",
    "        b, a = sps.butter(order / 2, f_cut / nyq, f_cut2 / nyq, btype=btype)\n",
    "    else:\n",
    "        b, a = sps.butter(order / 2, f_cut / nyq, btype=btype)\n",
    "\n",
    "    return sps.filtfilt(b, a, signal)"
   ]
  },
  {
   "cell_type": "code",
   "execution_count": 2,
   "metadata": {},
   "outputs": [],
   "source": [
    "def notch(signal, fs, f_cut=[60,120,180], err=0.1):\n",
    "    '''\n",
    "    applies a notch filter to signal at frequencies at f_cut  \n",
    "    default values @ 60, 120, 180 Hz  \n",
    "    err indicates the notch bandwidth (in Hz)  \n",
    "    '''\n",
    "    nyq = 0.5 * fs;\n",
    "    temp = signal;\n",
    "    \n",
    "    for f in f_cut:\n",
    "        # set quality factor - determines notch bandwidth\n",
    "        Q = f / nyq / err \n",
    "        \n",
    "        b, a = sps.iirnotch(f / nyq, Q)\n",
    "        temp = sps.filtfilt(b, a, temp)\n",
    "    \n",
    "    return temp"
   ]
  },
  {
   "cell_type": "code",
   "execution_count": 3,
   "metadata": {},
   "outputs": [],
   "source": [
    "def ecog_clean(signal, fs):\n",
    "    '''\n",
    "    applies a standardized set of filtering parameters to clean ECoG data  \n",
    "    bandpass 0.1 Hz - 200 Hz  \n",
    "    notch @ 60, 120, 180 Hz  \n",
    "    '''\n",
    "    # bandpass 0.1 Hz - 200 Hz\n",
    "    temp = flex_filter(signal, fs, 0.1, 200, btype='bandpass')\n",
    "    \n",
    "    # notch @ 60, 120, 180 Hz\n",
    "    temp = notch(temp, fs)\n",
    "    \n",
    "    return temp"
   ]
  },
  {
   "cell_type": "code",
   "execution_count": null,
   "metadata": {},
   "outputs": [],
   "source": []
  }
 ],
 "metadata": {
  "kernelspec": {
   "display_name": "Python 3",
   "language": "python",
   "name": "python3"
  },
  "language_info": {
   "codemirror_mode": {
    "name": "ipython",
    "version": 3
   },
   "file_extension": ".py",
   "mimetype": "text/x-python",
   "name": "python",
   "nbconvert_exporter": "python",
   "pygments_lexer": "ipython3",
   "version": "3.7.3"
  }
 },
 "nbformat": 4,
 "nbformat_minor": 2
}
