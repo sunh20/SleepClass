{
 "cells": [
  {
   "cell_type": "markdown",
   "metadata": {},
   "source": [
    "## Filtering tools for neural data\n",
    "\n",
    "### Current list of tools:\n",
    "\n",
    "#### Filtering tools:\n",
    "- **flex_filter**(signal, fs, [f_low, f_high], order)  \n",
    "    \n",
    "    flexible filter able to low/band/high/notch filter  \n",
    "      \n",
    "    *signal*: MxN matrix, assuming that there are N independent vectors of length M  \n",
    "    *fs*: sampling frequency  \n",
    "    *f_low*: low frequency cutoff value (0 if none)  \n",
    "    *f_high*: high frequency cutoff value (0 if none)  \n",
    "    *order* (optional): butterworth order (default is 4)  \n",
    "    \n",
    "    filter examples:\n",
    "        lowpass [0, 200]\n",
    "        bandpass [8, 12]\n",
    "        highpass [1, 0]\n",
    "        notch [60, 60]\n",
    "          \n",
    "          \n",
    "- **lowpass**(signal, fs, f_cut, order)  \n",
    "\n",
    "    applies a low pass filter to signal with cutoff frequency at f_cut  \n",
    "    optional filter order (default = 4)  \n",
    "    relies on flex_filter  \n",
    "    \n",
    "    \n",
    "- **bandpass**(signal, fs, f_low, f_high, order)  \n",
    "\n",
    "    applies a band pass filter to signal with cutoff frequencies f_low, f_high  \n",
    "    optional filter order (default = 4)  \n",
    "    relies on flex_filter  \n",
    "    \n",
    "    \n",
    "- **highpass**(signal, fs, f_cut, order)  \n",
    "\n",
    "    applies a high pass filter to signal with cutoff frequency at f_cut  \n",
    "    optional filter order (default = 4)  \n",
    "    relies on flex_filter  \n",
    "    \n",
    "    \n",
    "- **notch**(signal, fs, f_cut, order)  \n",
    "\n",
    "    applies a notch filter to signal at frequency at f_cut  \n",
    "    optional filter order (default = 4)  \n",
    "    relies on flex_filter  \n",
    "    \n",
    "    \n",
    "- **ecog_clean**(signal, fs)  \n",
    "\n",
    "    applies a standardized set of filtering parameters to clean ECoG data  \n",
    "    bandpass 0.1 Hz - 200 Hz  \n",
    "    notch @ 60, 120, 180 Hz  \n",
    "    relies on all above functions  "
   ]
  },
  {
   "cell_type": "code",
   "execution_count": 1,
   "metadata": {},
   "outputs": [],
   "source": [
    "# imports + global variables\n",
    "import scipy.signal as sps\n"
   ]
  },
  {
   "cell_type": "code",
   "execution_count": null,
   "metadata": {},
   "outputs": [],
   "source": [
    "def flex_filter(signal, fs, [f_low, f_high], order=2):\n",
    "    \n",
    "    nyq = 0.5 * fs;\n",
    "    \n",
    "    # ID filter type\n",
    "    \n",
    "    if f_low == 0:           # low pass filter\n",
    "        b, a = sps.butter(order, f_high / nyq, btype='low')\n",
    "    else if f_high == 0:     # high pass filter\n",
    "        b, a = sps.butter(order, f_low / nyq, btype='high')\n",
    "    else if f_low == f_high: # notch filter\n",
    "        # TODO\n",
    "    else:                    # bandpass filter\n",
    "        b, a = sps.butter(order, [f_low / nyq, f_high / nyq], btype='band')\n",
    "\n",
    "    return sps.filtfilt(b, a, signal)"
   ]
  },
  {
   "cell_type": "code",
   "execution_count": null,
   "metadata": {},
   "outputs": [],
   "source": [
    "def lowpass(signal, fs, f_cut, order=2):\n",
    "    return flex_filter(signal, fs, [0, f_cut], order=2)\n",
    "\n",
    "def highpass(signal, fs, f_cut, order=2):\n",
    "    return flex_filter(signal, fs, [f_cut, 0], order=2)\n",
    "\n",
    "def bandpass(signal, fs, f_low, f_high, order=2):\n",
    "    return flex_filter(signal, fs, [f_low, f_high], order=2)\n",
    "\n",
    "def notch(signal, fs, f_cut, order=2):\n",
    "    return null\n"
   ]
  },
  {
   "cell_type": "code",
   "execution_count": null,
   "metadata": {},
   "outputs": [],
   "source": [
    "def ecog_clean(signal, fs):\n",
    "    # bandpass 0.1 Hz - 200 Hz\n",
    "    temp_sig = flex_filter(signal, fs, [0.1, 200], order=2)\n",
    "    \n",
    "    # notch @ 60, 120, 180 Hz\n",
    "    return null"
   ]
  }
 ],
 "metadata": {
  "kernelspec": {
   "display_name": "Python 3",
   "language": "python",
   "name": "python3"
  },
  "language_info": {
   "codemirror_mode": {
    "name": "ipython",
    "version": 3
   },
   "file_extension": ".py",
   "mimetype": "text/x-python",
   "name": "python",
   "nbconvert_exporter": "python",
   "pygments_lexer": "ipython3",
   "version": "3.7.3"
  }
 },
 "nbformat": 4,
 "nbformat_minor": 2
}
