{
 "cells": [
  {
   "cell_type": "markdown",
   "metadata": {},
   "source": [
    "### Processes raw data to continuous neural data + sleep/wake labels\n",
    "Currently supports:\n",
    "- a0f - day 6,7,8\n",
    "- cb4 - day 7,8,9\n"
   ]
  },
  {
   "cell_type": "code",
   "execution_count": 1,
   "metadata": {},
   "outputs": [],
   "source": [
    "# imports\n",
    "import numpy as np\n",
    "import h5py \n",
    "import math \n",
    "\n",
    "import matplotlib.pyplot as plt\n",
    "import seaborn as sns\n",
    "sns.set()"
   ]
  },
  {
   "cell_type": "code",
   "execution_count": 2,
   "metadata": {},
   "outputs": [],
   "source": [
    "# options\n",
    "save_on = 1\n",
    "plot_on = 0\n",
    "day = 8\n",
    "subj_id = 'a0f66459'\n",
    "# subj_id = 'cb46fd46'\n",
    "path = \"/Users/sunh20/School/Research/sleep_class\""
   ]
  },
  {
   "cell_type": "code",
   "execution_count": 3,
   "metadata": {},
   "outputs": [
    {
     "name": "stdout",
     "output_type": "stream",
     "text": [
      "['Kurt_channels', 'SD_channels', 'allChanArtifactInds', 'chanLabels', 'dataset', 'f_sample', 'goodChanInds', 'standardizeDenoms', 'start_timestamp', 'start_timestamp_nw']\n"
     ]
    }
   ],
   "source": [
    "# load raw data\n",
    "\n",
    "filename = path + \"/DATA/\" + subj_id + \"/ecog/processed_\" + subj_id + \"_\" + str(day) + \".h5\"\n",
    "fin = h5py.File(filename, \"r\")\n",
    "print(list(fin.keys()))\n",
    "ecog_d = fin.get('dataset')\n",
    "fs = int(fin.get('f_sample')[()])\n",
    "chan_label = fin.get('chanLabels')\n"
   ]
  },
  {
   "cell_type": "code",
   "execution_count": 4,
   "metadata": {},
   "outputs": [
    {
     "name": "stdout",
     "output_type": "stream",
     "text": [
      "ECOG_data: (44325239, 64)\n",
      "Removed channel 37\n",
      "ECOG_data: (44325239, 63)\n",
      "[ 1  2  3  4  5  6  7  8  9 10 11 12 13 14 15 16 17 18 19 20 21 22 23 24\n",
      " 25 26 27 28 29 30 31 32 33 34 35 36 38 39 40 41 42 43 44 45 46 47 48 49\n",
      " 50 51 52 53 54 55 56 57 58 59 60 61 62 63 64]\n"
     ]
    }
   ],
   "source": [
    "# get grid + channel data\n",
    "# first index = event data (ignore)\n",
    "ECOG_data = ecog_d[1:65,].transpose();\n",
    "print('ECOG_data:',ECOG_data.shape)\n",
    "\n",
    "chan = np.arange(1,65)\n",
    "\n",
    "if subj_id == 'a0f66459':\n",
    "    # remove ch 37 (bad channel) + make list of channels\n",
    "    chan = np.delete(chan,37-1)\n",
    "\n",
    "    ECOG_data = np.delete(ECOG_data,37-1,1)\n",
    "\n",
    "    print('Removed channel 37')\n",
    "    print('ECOG_data:', ECOG_data.shape)\n",
    "    print(chan)"
   ]
  },
  {
   "cell_type": "code",
   "execution_count": 5,
   "metadata": {},
   "outputs": [
    {
     "name": "stdout",
     "output_type": "stream",
     "text": [
      "start time:\n",
      "2015-09-27 07:46:15\n"
     ]
    }
   ],
   "source": [
    "# check start time - make sure it lines up with video times\n",
    "import datetime\n",
    "print('start time:')\n",
    "print(datetime.datetime.utcfromtimestamp(fin.get('start_timestamp')[()]))"
   ]
  },
  {
   "cell_type": "code",
   "execution_count": 6,
   "metadata": {},
   "outputs": [],
   "source": [
    "def get_seconds(time):\n",
    "    '''\n",
    "    input time as tuple (hour, min, second) as integers\n",
    "    returns time in seconds from 00:00 (midnight)\n",
    "    '''\n",
    "    return time[0]*60*60 + time[1]*60 + time[2]"
   ]
  },
  {
   "cell_type": "code",
   "execution_count": 8,
   "metadata": {},
   "outputs": [
    {
     "name": "stdout",
     "output_type": "stream",
     "text": [
      "t: (26746000,)\n",
      "data_neuro: (26746000, 63)\n",
      "data_labels: (26746000,)\n"
     ]
    }
   ],
   "source": [
    "# get segment of continuous neural data\n",
    "# define start, end time\n",
    "# create sleep/wake labels\n",
    "\n",
    "if subj_id == 'cb46fd46':\n",
    "    if day == 7:\n",
    "        # t_record_start = get_seconds([8,13,25])\n",
    "        t_start = get_seconds([23,12,13])\n",
    "        t_end = get_seconds([24,0,0]) + get_seconds([7,6,12])\n",
    "        \n",
    "        sleep_wake_transitions = [\n",
    "            t_start,\n",
    "            get_seconds([24,0,0]) + get_seconds([3,6,12]),\n",
    "            get_seconds([24,0,0]) + get_seconds([5,18,11]),\n",
    "            get_seconds([24,0,0]) + get_seconds([5,24,13]),\n",
    "            get_seconds([24,0,0]) + get_seconds([5,52,11]),\n",
    "            get_seconds([24,0,0]) + get_seconds([6,8,12]),\n",
    "            get_seconds([24,0,0]) + get_seconds([6,32,13]),\n",
    "            t_end\n",
    "        ]\n",
    "        sleep = False # is pt sleeping at t_start\n",
    "    elif day == 8:\n",
    "        # t_record_start = get_seconds([8,13,25])\n",
    "        t_start = get_seconds([7,7,59])\n",
    "        t_end = get_seconds([10,53,59])\n",
    "        \n",
    "        sleep_wake_transitions = [\n",
    "            t_start,\n",
    "            get_seconds([7,55,59])\n",
    "            get_seconds([8,22,0])\n",
    "            get_seconds([8,36,0])\n",
    "            get_seconds([9,19,59])\n",
    "            get_seconds([9,44,0])\n",
    "            get_seconds([9,54,0])\n",
    "            get_seconds([10,2,0])\n",
    "            get_seconds([10,12,0])\n",
    "            get_seconds([10,22,0])\n",
    "            t_end\n",
    "        ]\n",
    "        sleep = False # is pt sleeping at t_start\n",
    "        \n",
    "    elif day == 9:\n",
    "        # t_record_start = get_seconds([8,13,25])\n",
    "        t_start = get_seconds([23,23,42])\n",
    "        t_end = get_seconds([24,0,0]) + get_seconds([8,19,39])\n",
    "        \n",
    "        sleep_wake_transitions = [\n",
    "            t_start,\n",
    "            get_seconds([24,0,0]) + get_seconds([0,49,38]),\n",
    "            get_seconds([24,0,0]) + get_seconds([5,53,37]),\n",
    "            get_seconds([24,0,0]) + get_seconds([6,3,38]),\n",
    "            get_seconds([24,0,0]) + get_seconds([7,1,39]),\n",
    "            t_end\n",
    "        ]\n",
    "        sleep = False # is pt sleeping at t_start\n",
    "        \n",
    "    else:\n",
    "        print('day %i not supported for subj %s' % (day,subj_id))\n",
    "elif subj_id == 'a0f66459':\n",
    "    if day == 6:\n",
    "        t_record_start = get_seconds([8,13,25])\n",
    "        t_start = get_seconds([17,37,35])\n",
    "        t_end = get_seconds([24,0,0]) + get_seconds([5,1,34])\n",
    "        \n",
    "        sleep_wake_transitions = [\n",
    "            t_start,\n",
    "            get_seconds([21,21,36]),\n",
    "            get_seconds([21,33,36]),\n",
    "            get_seconds([21,37,35]),\n",
    "            get_seconds([23,1,36]),\n",
    "            get_seconds([23,7,37]),\n",
    "            get_seconds([24,0,0]) + get_seconds([0,23,35]),\n",
    "            get_seconds([24,0,0]) + get_seconds([0,57,35]),\n",
    "            get_seconds([24,0,0]) + get_seconds([4,1,35]),\n",
    "            get_seconds([24,0,0]) + get_seconds([4,5,35]),\n",
    "            t_end\n",
    "        ]\n",
    "        sleep = False # is pt sleeping at t_start\n",
    "\n",
    "    elif day == 7:\n",
    "        t_record_start = get_seconds([7,59,55])\n",
    "        t_start = get_seconds([14,15,16])\n",
    "        t_end = get_seconds([24,0,0]) + get_seconds([6,59,16])\n",
    "        \n",
    "        sleep_wake_transitions = [\n",
    "            t_start,\n",
    "            get_seconds([21,55,16]),\n",
    "            get_seconds([23,3,16]),\n",
    "            get_seconds([24,0,0]) + get_seconds([0,41,17]),\n",
    "            get_seconds([24,0,0]) + get_seconds([1,5,17]),\n",
    "            get_seconds([24,0,0]) + get_seconds([1,15,16]),\n",
    "            get_seconds([24,0,0]) + get_seconds([3,15,16]),\n",
    "            get_seconds([24,0,0]) + get_seconds([3,19,17]),\n",
    "            get_seconds([24,0,0]) + get_seconds([4,33,16]),\n",
    "            get_seconds([24,0,0]) + get_seconds([4,53,15]),\n",
    "            t_end\n",
    "        ]\n",
    "        sleep = False # is pt sleeping at t_start\n",
    "    elif day == 8:\n",
    "        t_record_start = get_seconds([7,46,15])\n",
    "        t_start = get_seconds([13,56,28])\n",
    "        t_end = get_seconds([24,0,0]) + get_seconds([4,48,0])\n",
    "        \n",
    "        sleep_wake_transitions = [\n",
    "            t_start,\n",
    "            get_seconds([18,22,25]),\n",
    "            get_seconds([19,4,25]),\n",
    "            get_seconds([22,26,28]),\n",
    "            get_seconds([22,50,29]),\n",
    "            get_seconds([22,58,27]),\n",
    "            get_seconds([23,10,27]),\n",
    "            get_seconds([24,0,0]) + get_seconds([1,52,27]),\n",
    "            get_seconds([24,0,0]) + get_seconds([3,22,27]),\n",
    "            get_seconds([24,0,0]) + get_seconds([3,34,26]),\n",
    "            t_end\n",
    "        ]\n",
    "        sleep = False # is pt sleeping at t_start\n",
    "\n",
    "    else:\n",
    "        print('day %i not supported for subj %s' % (day,subj_id))\n",
    "else:\n",
    "    print('subj %s not supported' % subj_id)\n",
    "\n",
    "# adjust to get start indices for wake + sleep\n",
    "t_data_start = (int)((t_start - t_record_start)*fs)\n",
    "t_data_end = (int)((t_end - t_record_start)*fs)\n",
    "\n",
    "data_neuro = ECOG_data[t_data_start:t_data_end]\n",
    "t = np.linspace(t_data_start,t_data_end,len(data_neuro))\n",
    "\n",
    "# create data labels - alternate between sleep + wake\n",
    "data_labels = np.zeros([len(data_neuro),])\n",
    "\n",
    "for i in range(len(sleep_wake_transitions)-1):\n",
    "    start_idx = (sleep_wake_transitions[i] - t_start)*fs\n",
    "    end_idx = (sleep_wake_transitions[i+1] - t_start)*fs\n",
    "    if ~sleep:\n",
    "        data_labels[start_idx:end_idx] = 1\n",
    "    sleep = ~sleep\n",
    "    \n",
    "print('t:',t.shape)\n",
    "print('data_neuro:', data_neuro.shape)\n",
    "print('data_labels:', data_labels.shape)\n"
   ]
  },
  {
   "cell_type": "code",
   "execution_count": 9,
   "metadata": {},
   "outputs": [
    {
     "data": {
      "text/plain": [
       "Text(0.5, 0, 'time (s)')"
      ]
     },
     "execution_count": 9,
     "metadata": {},
     "output_type": "execute_result"
    },
    {
     "data": {
      "image/png": "[encoded data removed]",
      "text/plain": [
       "<Figure size 864x288 with 2 Axes>"
      ]
     },
     "metadata": {},
     "output_type": "display_data"
    }
   ],
   "source": [
    "# plot data with labels\n",
    "\n",
    "plt.figure(figsize=[12,4])\n",
    "plt.subplot(2,1,1)\n",
    "plt.plot(t,data_neuro[:,0])\n",
    "plt.subplot(2,1,2)\n",
    "plt.plot(t,data_labels)\n",
    "plt.ylabel('sleep (0) / wake (1)')\n",
    "plt.xlabel('time (s)')"
   ]
  },
  {
   "cell_type": "code",
   "execution_count": 10,
   "metadata": {},
   "outputs": [
    {
     "name": "stdout",
     "output_type": "stream",
     "text": [
      "saving completed\n"
     ]
    }
   ],
   "source": [
    "if save_on:\n",
    "    outname = \"\" + subj_id + \"_d\" + str(day) + \"_continuous_labeled.h5\"\n",
    "    with h5py.File(outname,'w') as f:\n",
    "        f.create_dataset('data_neuro', data=data_neuro)\n",
    "        f.create_dataset('data_labels',data=data_labels)\n",
    "        f.create_dataset('t', data=t)\n",
    "        f.create_dataset('chan',data=chan)\n",
    "    print('saving completed')"
   ]
  },
  {
   "cell_type": "code",
   "execution_count": null,
   "metadata": {},
   "outputs": [],
   "source": []
  }
 ],
 "metadata": {
  "kernelspec": {
   "display_name": "Python 3",
   "language": "python",
   "name": "python3"
  },
  "language_info": {
   "codemirror_mode": {
    "name": "ipython",
    "version": 3
   },
   "file_extension": ".py",
   "mimetype": "text/x-python",
   "name": "python",
   "nbconvert_exporter": "python",
   "pygments_lexer": "ipython3",
   "version": "3.7.4"
  }
 },
 "nbformat": 4,
 "nbformat_minor": 4
}
